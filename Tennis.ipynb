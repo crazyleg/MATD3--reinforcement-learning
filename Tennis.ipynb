{
 "cells": [
  {
   "cell_type": "markdown",
   "metadata": {},
   "source": [
    "# Collaboration and Competition\n",
    "\n",
    "---\n",
    "\n",
    "In this notebook, you will learn how to use the Unity ML-Agents environment for the third project of the [Deep Reinforcement Learning Nanodegree](https://www.udacity.com/course/deep-reinforcement-learning-nanodegree--nd893) program.\n",
    "\n",
    "### 1. Start the Environment\n",
    "\n",
    "We begin by importing the necessary packages.  If the code cell below returns an error, please revisit the project instructions to double-check that you have installed [Unity ML-Agents](https://github.com/Unity-Technologies/ml-agents/blob/master/docs/Installation.md) and [NumPy](http://www.numpy.org/)."
   ]
  },
  {
   "cell_type": "code",
   "execution_count": null,
   "metadata": {},
   "outputs": [],
   "source": [
    "from unityagents import UnityEnvironment\n",
    "import numpy as np"
   ]
  },
  {
   "cell_type": "markdown",
   "metadata": {},
   "source": [
    "Next, we will start the environment!  **_Before running the code cell below_**, change the `file_name` parameter to match the location of the Unity environment that you downloaded.\n",
    "\n",
    "- **Mac**: `\"path/to/Tennis.app\"`\n",
    "- **Windows** (x86): `\"path/to/Tennis_Windows_x86/Tennis.exe\"`\n",
    "- **Windows** (x86_64): `\"path/to/Tennis_Windows_x86_64/Tennis.exe\"`\n",
    "- **Linux** (x86): `\"path/to/Tennis_Linux/Tennis.x86\"`\n",
    "- **Linux** (x86_64): `\"path/to/Tennis_Linux/Tennis.x86_64\"`\n",
    "- **Linux** (x86, headless): `\"path/to/Tennis_Linux_NoVis/Tennis.x86\"`\n",
    "- **Linux** (x86_64, headless): `\"path/to/Tennis_Linux_NoVis/Tennis.x86_64\"`\n",
    "\n",
    "For instance, if you are using a Mac, then you downloaded `Tennis.app`.  If this file is in the same folder as the notebook, then the line below should appear as follows:\n",
    "```\n",
    "env = UnityEnvironment(file_name=\"Tennis.app\")\n",
    "```"
   ]
  },
  {
   "cell_type": "code",
   "execution_count": null,
   "metadata": {},
   "outputs": [],
   "source": [
    "env = UnityEnvironment(file_name=\"Tennis_Linux/Tennis.x86_64\")"
   ]
  },
  {
   "cell_type": "markdown",
   "metadata": {},
   "source": [
    "Environments contain **_brains_** which are responsible for deciding the actions of their associated agents. Here we check for the first brain available, and set it as the default brain we will be controlling from Python."
   ]
  },
  {
   "cell_type": "code",
   "execution_count": null,
   "metadata": {},
   "outputs": [],
   "source": [
    "# get the default brain\n",
    "brain_name = env.brain_names[0]\n",
    "brain = env.brains[brain_name]"
   ]
  },
  {
   "cell_type": "markdown",
   "metadata": {},
   "source": [
    "### 2. Examine the State and Action Spaces\n",
    "\n",
    "In this environment, two agents control rackets to bounce a ball over a net. If an agent hits the ball over the net, it receives a reward of +0.1.  If an agent lets a ball hit the ground or hits the ball out of bounds, it receives a reward of -0.01.  Thus, the goal of each agent is to keep the ball in play.\n",
    "\n",
    "The observation space consists of 8 variables corresponding to the position and velocity of the ball and racket. Two continuous actions are available, corresponding to movement toward (or away from) the net, and jumping. \n",
    "\n",
    "Run the code cell below to print some information about the environment."
   ]
  },
  {
   "cell_type": "code",
   "execution_count": 4,
   "metadata": {},
   "outputs": [
    {
     "name": "stdout",
     "output_type": "stream",
     "text": [
      "Number of agents: 2\n",
      "Size of each action: 2\n",
      "There are 2 agents. Each observes a state with length: 24\n",
      "The state for the first agent looks like: [ 0.          0.          0.          0.          0.          0.\n",
      "  0.          0.          0.          0.          0.          0.\n",
      "  0.          0.          0.          0.         -6.65278625 -1.5\n",
      " -0.          0.          6.83172083  6.         -0.          0.        ]\n"
     ]
    }
   ],
   "source": [
    "# reset the environment\n",
    "env_info = env.reset(train_mode=True)[brain_name]\n",
    "\n",
    "# number of agents \n",
    "num_agents = len(env_info.agents)\n",
    "print('Number of agents:', num_agents)\n",
    "\n",
    "# size of each action\n",
    "action_size = brain.vector_action_space_size\n",
    "print('Size of each action:', action_size)\n",
    "\n",
    "# examine the state space \n",
    "states = env_info.vector_observations\n",
    "state_size = states.shape[1]\n",
    "print('There are {} agents. Each observes a state with length: {}'.format(states.shape[0], state_size))\n",
    "print('The state for the first agent looks like:', states[0])"
   ]
  },
  {
   "cell_type": "code",
   "execution_count": 5,
   "metadata": {},
   "outputs": [
    {
     "data": {
      "text/plain": [
       "(2, 24)"
      ]
     },
     "execution_count": 5,
     "metadata": {},
     "output_type": "execute_result"
    }
   ],
   "source": [
    "states.shape"
   ]
  },
  {
   "cell_type": "markdown",
   "metadata": {},
   "source": [
    "### 3. Take Random Actions in the Environment\n",
    "\n",
    "In the next code cell, you will learn how to use the Python API to control the agents and receive feedback from the environment.\n",
    "\n",
    "Once this cell is executed, you will watch the agents' performance, if they select actions at random with each time step.  A window should pop up that allows you to observe the agents.\n",
    "\n",
    "Of course, as part of the project, you'll have to change the code so that the agents are able to use their experiences to gradually choose better actions when interacting with the environment!"
   ]
  },
  {
   "cell_type": "markdown",
   "metadata": {},
   "source": [
    "When finished, you can close the environment."
   ]
  },
  {
   "cell_type": "markdown",
   "metadata": {},
   "source": [
    "### 4. It's Your Turn!\n",
    "\n",
    "Now it's your turn to train your own agent to solve the environment!  When training the environment, set `train_mode=True`, so that the line for resetting the environment looks like the following:\n",
    "```python\n",
    "env_info = env.reset(train_mode=True)[brain_name]\n",
    "```"
   ]
  },
  {
   "cell_type": "code",
   "execution_count": 6,
   "metadata": {},
   "outputs": [],
   "source": [
    "%load_ext autoreload\n",
    "%autoreload 2\n",
    "\n",
    "\n",
    "%matplotlib widget"
   ]
  },
  {
   "cell_type": "code",
   "execution_count": 7,
   "metadata": {},
   "outputs": [],
   "source": [
    "from agent import TD3MultiAgent\n",
    "from multiagent import MultiAgent\n",
    "import matplotlib.pyplot as plt"
   ]
  },
  {
   "cell_type": "code",
   "execution_count": 8,
   "metadata": {},
   "outputs": [
    {
     "data": {
      "application/vnd.jupyter.widget-view+json": {
       "model_id": "a98fe550a8ea46949727f4cd574b969d",
       "version_major": 2,
       "version_minor": 0
      },
      "text/plain": [
       "Canvas(toolbar=Toolbar(toolitems=[('Home', 'Reset original view', 'home', 'home'), ('Back', 'Back to previous …"
      ]
     },
     "metadata": {},
     "output_type": "display_data"
    }
   ],
   "source": [
    "fig,ax = plt.subplots(1,1)\n",
    "ax.set_xlabel('Episode') ; ax.set_ylabel('Mean Score')\n",
    "ax.set_xlim(0,3000) ; ax.set_ylim(-1,1)\n",
    "xs, ys, mean_ys = [0], [0], [0]\n",
    "ax.plot(xs, ys, 'red', label = 'episode score')\n",
    "ax.plot(xs, mean_ys, 'blue', label = 'mean of last 100')\n",
    "ax.legend()\n",
    "fig.canvas.draw()"
   ]
  },
  {
   "cell_type": "code",
   "execution_count": 9,
   "metadata": {},
   "outputs": [
    {
     "name": "stdout",
     "output_type": "stream",
     "text": [
      "0 [ 0.   -0.01] with mean of 0.0\n",
      "14\n",
      "20 [-0.01  0.  ] with mean of 0.019047619331450688\n",
      "14\n",
      "40 [ 0.1  -0.01] with mean of 0.01219512213294099\n",
      "20\n",
      "60 [-0.01  0.  ] with mean of 0.011475410007062505\n",
      "14\n",
      "80 [-0.01  0.  ] with mean of 0.008641975437417442\n",
      "14\n",
      "100 [ 0.   -0.01] with mean of 0.007000000104308128\n",
      "14\n",
      "120 [-0.01  0.  ] with mean of 0.004000000059604645\n",
      "14\n",
      "140 [-0.01  0.  ] with mean of 0.004000000059604645\n",
      "14\n",
      "160 [ 0.   -0.01] with mean of 0.0020000000298023225\n",
      "14\n",
      "180 [-0.01  0.  ] with mean of 0.0020000000298023225\n",
      "14\n",
      "200 [-0.01  0.  ] with mean of 0.0030000000447034836\n",
      "15\n",
      "220 [-0.01  0.1 ] with mean of 0.006000000089406967\n",
      "27\n",
      "240 [ 0.   -0.01] with mean of 0.005000000074505806\n",
      "14\n",
      "260 [-0.01  0.  ] with mean of 0.005000000074505806\n",
      "14\n",
      "280 [ 0.   -0.01] with mean of 0.005000000074505806\n",
      "20\n",
      "300 [-0.01  0.  ] with mean of 0.007000000104308128\n",
      "14\n",
      "320 [-0.01  0.  ] with mean of 0.0030000000447034836\n",
      "14\n",
      "340 [ 0.   -0.01] with mean of 0.003900000061839819\n",
      "24\n",
      "360 [ 0.   -0.01] with mean of 0.00490000007674098\n",
      "14\n",
      "380 [ 0.   -0.01] with mean of 0.005900000091642142\n",
      "14\n",
      "400 [ 0.   -0.01] with mean of 0.0029000000469386576\n",
      "14\n",
      "420 [ 0.   -0.01] with mean of 0.0029000000469386576\n",
      "17\n",
      "440 [0.1  0.09] with mean of 0.0030000000447034836\n",
      "37\n",
      "460 [ 0.   -0.01] with mean of 0.0020000000298023225\n",
      "14\n",
      "480 [ 0.   -0.01] with mean of 0.0020000000298023225\n",
      "14\n",
      "500 [-0.01  0.  ] with mean of 0.005000000074505806\n",
      "14\n",
      "520 [-0.01  0.  ] with mean of 0.005000000074505806\n",
      "14\n",
      "540 [-0.01  0.  ] with mean of 0.005000000074505806\n",
      "19\n",
      "560 [-0.01  0.  ] with mean of 0.006000000089406967\n",
      "14\n",
      "580 [-0.01  0.  ] with mean of 0.007900000140070916\n",
      "15\n",
      "600 [ 0.   -0.01] with mean of 0.004900000095367432\n",
      "14\n",
      "620 [ 0.   -0.01] with mean of 0.004900000095367432\n",
      "14\n",
      "640 [-0.01  0.  ] with mean of 0.0039000000804662706\n",
      "14\n",
      "660 [-0.01  0.  ] with mean of 0.002900000065565109\n",
      "14\n",
      "680 [-0.01  0.  ] with mean of 0.0\n",
      "14\n",
      "700 [ 0.   -0.01] with mean of 0.0\n",
      "14\n",
      "720 [-0.01  0.  ] with mean of 0.0\n",
      "14\n",
      "740 [ 0.   -0.01] with mean of 0.0\n",
      "14\n",
      "760 [-0.01  0.  ] with mean of 0.0\n",
      "14\n",
      "780 [-0.01  0.  ] with mean of 0.002900000065565109\n",
      "14\n",
      "800 [-0.01  0.  ] with mean of 0.002900000065565109\n",
      "14\n",
      "820 [-0.01  0.  ] with mean of 0.002900000065565109\n",
      "14\n",
      "840 [-0.01  0.  ] with mean of 0.002900000065565109\n",
      "14\n",
      "860 [-0.01  0.  ] with mean of 0.0039000000804662706\n",
      "14\n",
      "880 [-0.01  0.  ] with mean of 0.0010000000149011613\n",
      "14\n",
      "900 [ 0.   -0.01] with mean of 0.0010000000149011613\n",
      "14\n",
      "920 [ 0.   -0.01] with mean of 0.0010000000149011613\n",
      "14\n",
      "940 [-0.01  0.  ] with mean of 0.0010000000149011613\n",
      "14\n",
      "960 [-0.01  0.  ] with mean of 0.0\n",
      "14\n",
      "980 [ 0.   -0.01] with mean of 0.0\n",
      "14\n",
      "1000 [-0.01  0.  ] with mean of 0.0010000000149011613\n",
      "14\n",
      "1020 [ 0.   -0.01] with mean of 0.0010000000149011613\n",
      "14\n",
      "1040 [ 0.   -0.01] with mean of 0.0010000000149011613\n",
      "14\n",
      "1060 [-0.01  0.  ] with mean of 0.0010000000149011613\n",
      "14\n",
      "1080 [ 0.1  -0.01] with mean of 0.0030000000447034836\n",
      "33\n",
      "1100 [-0.01  0.  ] with mean of 0.0020000000298023225\n",
      "14\n",
      "1120 [ 0.   -0.01] with mean of 0.0030000000447034836\n",
      "14\n",
      "1140 [-0.01  0.  ] with mean of 0.006000000089406967\n",
      "14\n",
      "1160 [ 0.   -0.01] with mean of 0.006000000089406967\n",
      "14\n",
      "1180 [-0.01  0.  ] with mean of 0.005900000091642142\n",
      "14\n",
      "1200 [ 0.   -0.01] with mean of 0.008700000140815973\n",
      "14\n",
      "1220 [ 0.   -0.01] with mean of 0.01060000017285347\n",
      "14\n",
      "1240 [-0.01  0.  ] with mean of 0.01140000019222498\n",
      "14\n",
      "1260 [ 0.1  -0.01] with mean of 0.014300000239163637\n",
      "32\n",
      "1280 [ 0.   -0.01] with mean of 0.015300000254064798\n",
      "14\n",
      "1300 [-0.01  0.  ] with mean of 0.0222000003606081\n",
      "14\n",
      "1320 [-0.01  0.1 ] with mean of 0.02810000045225024\n",
      "33\n",
      "1340 [-0.01  0.1 ] with mean of 0.04200000066310167\n",
      "38\n",
      "1360 [0.09 0.1 ] with mean of 0.052500000838190314\n",
      "52\n",
      "1380 [ 0.   -0.01] with mean of 0.06140000097453594\n",
      "17\n",
      "1400 [ 0.1  -0.01] with mean of 0.06150000097230077\n",
      "32\n",
      "1420 [ 0.   -0.01] with mean of 0.06550000103190541\n",
      "21\n",
      "1440 [ 0.   -0.01] with mean of 0.06270000098273158\n",
      "20\n",
      "1460 [-0.01  0.1 ] with mean of 0.0632000009715557\n",
      "30\n",
      "1480 [ 0.   -0.01] with mean of 0.0643000009842217\n",
      "18\n",
      "1500 [ 0.1  -0.01] with mean of 0.06840000104159116\n",
      "32\n",
      "1520 [ 0.1  -0.01] with mean of 0.06860000103712081\n",
      "33\n",
      "1540 [-0.01  0.  ] with mean of 0.06860000103712081\n",
      "15\n",
      "1560 [0.   0.09] with mean of 0.07050000108778477\n",
      "21\n",
      "1580 [ 0.   -0.01] with mean of 0.07150000112131238\n",
      "14\n",
      "1600 [ 0.1  -0.01] with mean of 0.0733000011742115\n",
      "32\n",
      "1620 [ 0.   -0.01] with mean of 0.0783000012487173\n",
      "14\n",
      "1640 [-0.01  0.1 ] with mean of 0.08530000135302544\n",
      "26\n",
      "1660 [ 0.   -0.01] with mean of 0.08850000137463213\n",
      "14\n",
      "1680 [-0.01  0.1 ] with mean of 0.08750000134110451\n",
      "33\n",
      "1700 [ 0.1  -0.01] with mean of 0.0877000013180077\n",
      "33\n",
      "1720 [0.1  0.19] with mean of 0.09760000146925449\n",
      "59\n",
      "1740 [0.2  0.09] with mean of 0.09370000140741468\n",
      "87\n",
      "1760 [0.2  0.19] with mean of 0.09970000149682164\n",
      "87\n",
      "1780 [0.   0.09] with mean of 0.10860000163316727\n",
      "33\n",
      "1800 [0.1  0.09] with mean of 0.11570000173524023\n",
      "52\n",
      "1820 [0.1  0.09] with mean of 0.10470000157132744\n",
      "69\n",
      "1840 [ 0.   -0.01] with mean of 0.11760000176727772\n",
      "20\n",
      "1860 [0.50000001 0.49000001] with mean of 0.12750000193715094\n",
      "213\n",
      "1880 [-0.01  0.  ] with mean of 0.14060000214725732\n",
      "14\n",
      "1900 [0.3  0.29] with mean of 0.14750000227242707\n",
      "125\n",
      "1920 [0.40000001 0.29      ] with mean of 0.16030000248923898\n",
      "159\n",
      "1940 [0.2  0.19] with mean of 0.17840000275522472\n",
      "93\n",
      "1960 [ 0.1  -0.01] with mean of 0.22350000340491533\n",
      "32\n",
      "1980 [-0.01  0.1 ] with mean of 0.2555000038817525\n",
      "33\n",
      "2000 [0.3  0.19] with mean of 0.317500004786998\n",
      "129\n",
      "2020 [1.80000003 1.79000003] with mean of 0.41970000628381965\n",
      "700\n",
      "2040 [0.99000002 1.10000002] with mean of 0.4656000069715083\n",
      "414\n",
      "2060 [1.60000002 1.59000002] with mean of 0.49840000746771695\n",
      "624\n",
      "--- SOLVED IT in 2062 EPISODES ---\n"
     ]
    }
   ],
   "source": [
    "multiagents = MultiAgent(env, TD3MultiAgent)\n",
    "results = []\n",
    "import pdb\n",
    "solved = False\n",
    "episode = 0\n",
    "\n",
    "while not solved:\n",
    "    multiagents.reset()\n",
    "    \n",
    "    n = 0\n",
    "    while True:\n",
    "        multiagents.step()\n",
    "        n +=1\n",
    "        if np.any(multiagents.done):\n",
    "            results.append(multiagents.total_score.max())\n",
    "            xs.append(episode)\n",
    "            ys.append(multiagents.total_score.max())\n",
    "            mean_ys.append(np.array(results[-100:]).mean())\n",
    "            ax.plot(xs, ys, 'red', label = 'episode score')\n",
    "            ax.plot(xs, mean_ys, 'blue', label = 'mean of last 100')\n",
    "            fig.canvas.draw()\n",
    "            if episode % 20 == 0:\n",
    "                print(f'{episode} {multiagents.total_score} with mean of {np.array(results[-100:]).mean()}')\n",
    "                print(n)\n",
    "            episode += 1\n",
    "            \n",
    "            if np.array(results[-100:]).mean() > 0.5 and len(results)>=100:\n",
    "                print(f'--- SOLVED IT in {episode} EPISODES ---')\n",
    "                solved = True\n",
    "            multiagents.reset()        \n",
    "            \n",
    "            n=0\n",
    "            break\n",
    "#             agent.eval_episode()\n",
    "env.close()"
   ]
  },
  {
   "cell_type": "code",
   "execution_count": 12,
   "metadata": {},
   "outputs": [],
   "source": [
    "import torch\n",
    "torch.save(multiagents.agents[0].actor_target.state_dict(), 'actor1.pth')\n",
    "torch.save(multiagents.agents[1].actor_target.state_dict(), 'actor2.pth')"
   ]
  }
 ],
 "metadata": {
  "kernelspec": {
   "display_name": "Python 3",
   "language": "python",
   "name": "python3"
  },
  "language_info": {
   "codemirror_mode": {
    "name": "ipython",
    "version": 3
   },
   "file_extension": ".py",
   "mimetype": "text/x-python",
   "name": "python",
   "nbconvert_exporter": "python",
   "pygments_lexer": "ipython3",
   "version": "3.7.6"
  }
 },
 "nbformat": 4,
 "nbformat_minor": 4
}
